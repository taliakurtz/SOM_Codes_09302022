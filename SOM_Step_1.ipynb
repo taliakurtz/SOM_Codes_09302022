{
 "cells": [
  {
   "cell_type": "code",
   "execution_count": null,
   "id": "fced2623-d18a-4fc6-9872-280224a1356f",
   "metadata": {},
   "outputs": [],
   "source": [
    "#Date 9-22-2022\n",
    "#Author: Talia Kurtz\n",
    "\n",
    "#Code Purpose:\n",
    "# The purpose of this code is to get the ERA data into the format needed to input it into a SOM. The goal here is to first resample the ERA data from one hour to 6 hours. Once that step is done, the data needs\n",
    "# to be resampled to winter months only. For this code, the winter months are defined as Jan., Feb., March, April, Oct., Nov., and Dec. The resample used from going from 1 hour to 6 hour is .nearest() because\n",
    "# we do not want the mean of the hour we just want the measurements at 00z, 06z, 12z, and 18z for each day. The data once sampled will need to be normalized. This is done by caluclating the minimum and maximum\n",
    "# for each hour subtracting minimum from the maximum and then dividing 100 by that value to get a MSLP factor that is then multiplied by the MSLP data. The input data will be of the shape (hours, lat*lon)\n",
    "\n",
    "#What is saved from this code:\n",
    "# The data_train which will be used as input into the SOM when you generate the SOM.\n",
    "# The raw MSLP data from the ERA data which will be used when you graph the raw data for the SOMs.\n",
    "\n",
    "##################################################################################################################################################################################################################\n",
    "#Imports for the Code:\n",
    "#Imports\n",
    "import xarray as xr\n",
    "import numpy as np\n",
    "import pandas as pd\n",
    "import warnings\n",
    "warnings.filterwarnings('ignore')\n",
    "%matplotlib inline\n",
    "\n",
    "##################################################################################################################################################################################################################\n",
    "#Opening up the raw data that is not regrouped every 6 hours and not filtered to just be winter months. This is the raw ERA5 Regridded data.\n",
    "PATH ='/Users/research/thesis_code/'\n",
    "dy = xr.open_dataset(PATH+'e5.MSL_ERA_SOM__new1.nc')\n",
    "##################################################################################################################################################################################################################\n",
    "dx = dy.resample(time = '6H').nearest()\n",
    "##################################################################################################################################################################################################################\n",
    "#Grabbing only the Winter month data in this line.\n",
    "ds = dx.isel(time=dx.time.dt.month.isin([1,2,3,4,10,11,12]))\n",
    "##################################################################################################################################################################################################################\n",
    "#Creating Variables from the subset winter ERA5 Data.\n",
    "time_values = ds['time'].values\n",
    "mslp_values = ((ds['MSL'])/100).values\n",
    "mslpraw = (ds['MSL'])/100  #This is the data the NON-anomaly data.\n",
    "lon = ds['lon'].values\n",
    "lat = ds['lat'].values\n",
    "\n",
    "#generate the empty array that will house the 6-hour interval data.\n",
    "nhour =int((ds['time'].size))\n",
    "nlat = int((ds['lat'].size))\n",
    "nlon = int((ds['lon'].size))\n",
    "mslparr = np.empty((nhour, nlat*nlon))  #This is the new array that we will place the data into.\n",
    "##################################################################################################################################################################################################################\n",
    "#We are now going to place the raw MSLP data into the array (mslparr)\n",
    "for i in range(nhour):\n",
    "    mslparr[i,:]= mslpraw[i,:,:].stack(point=[\"lat\", \"lon\"])\n",
    "##################################################################################################################################################################################################################\n",
    "#We are now calculating the hourly anomaly data. The hourly mean will be removed from the data. \n",
    "for i in range(nhour):\n",
    "    mslparr[i,:] =mslparr[i,:]-np.mean(mslparr[i,:])\n",
    "##################################################################################################################################################################################################################\n",
    "#We are now going to be normalizing the data by finding the minimum and maximum and generating a factor to multiple to the data. The factor is based off the hourly\n",
    "#max and min in the MSLP data\n",
    "maxmslp=-9999999\n",
    "minmslp=999999   #we are setting the minmslp and maxmslp variables to a value so that there is no junk in the variable and each will easily overcome the set value.\n",
    "\n",
    "for i in range(nhour):\n",
    "    minmslp=min(minmslp,np.min(mslparr[i,:]))\n",
    "    maxmslp=max(maxmslp,np.max(mslparr[i,:]))\n",
    "print(maxmslp, minmslp)\n",
    "\n",
    "#We are generating the MSLP factor to be multipled to the data to normalize it\n",
    "mslp_factor=100./(maxmslp-minmslp)\n",
    "print(mslp_factor)\n",
    "\n",
    "#The data is now being normalized.\n",
    "data_train = mslparr*mslp_factor\n",
    "###################################################################################################################################################################################################################\n",
    "#Saving the variables that we need for the SOM making and plotting \n",
    "#mslpraw.to_netcdf('/Users/research/thesis_code/SOM_MSLPraw_era_data.nc')"
   ]
  },
  {
   "cell_type": "code",
   "execution_count": null,
   "id": "f591ff65-1334-4c3a-a685-3e24fb6370dc",
   "metadata": {},
   "outputs": [],
   "source": [
    "data_train"
   ]
  },
  {
   "cell_type": "code",
   "execution_count": null,
   "id": "1ceff992-b6bd-4f54-9053-6803296d4569",
   "metadata": {},
   "outputs": [],
   "source": [
    "#np.save('som_data_train.npy', data_train)\n",
    "np.save('som_time_data.npy', time_values)"
   ]
  },
  {
   "cell_type": "code",
   "execution_count": null,
   "id": "bf4539d7-0683-4f46-a2c2-32ee131ba00c",
   "metadata": {},
   "outputs": [],
   "source": []
  }
 ],
 "metadata": {
  "kernelspec": {
   "display_name": "Python 3 (ipykernel)",
   "language": "python",
   "name": "python3"
  },
  "language_info": {
   "codemirror_mode": {
    "name": "ipython",
    "version": 3
   },
   "file_extension": ".py",
   "mimetype": "text/x-python",
   "name": "python",
   "nbconvert_exporter": "python",
   "pygments_lexer": "ipython3",
   "version": "3.8.13"
  }
 },
 "nbformat": 4,
 "nbformat_minor": 5
}
