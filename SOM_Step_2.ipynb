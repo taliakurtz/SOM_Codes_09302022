{
 "cells": [
  {
   "cell_type": "code",
   "execution_count": null,
   "id": "80bc9e7b-b797-45da-af1f-3d34c25fd9de",
   "metadata": {},
   "outputs": [],
   "source": [
    "#Date: 9-22-2022\n",
    "#Author: Talia Kurtz\n",
    "\n",
    "#The purpose of the code:\n",
    "#This code is used to generate 10 SOMs amd save the ten SOM outputs to a specified file. \n",
    "\n",
    "# initialize som object using the asymptotic decay function adn you can set the SOM settings to whichever values you like. \n",
    "\n",
    "#What does this code save?\n",
    "#This code outputs the SOMs and saves them to the specific folder that you define in the PATH line. The amount of SOMs that you output is dependent on the number placed in the range () within the loop.\n",
    "###########################################################################################################################################################################\n",
    "#Imports \n",
    "import xarray as xr\n",
    "import numpy as np\n",
    "import pandas as pd\n",
    "import warnings\n",
    "import minisom\n",
    "import pickle\n",
    "from minisom import asymptotic_decay\n",
    "\n",
    "PATH = '/Users/research/thesis_code/SOMs/'\n",
    "#You will need to open the data_train that we saved from the SOM Step #1\n",
    "data_train = np.load('som_data_train.npy')\n",
    "\n",
    "###########################################################################################################################################################################\n",
    "#You want to change these to the settings that you would like.\n",
    "x= 5  #columns\n",
    "y= 4 #row\n",
    "input_length = 1008\n",
    "sigma = 3\n",
    "learning_rate = 0.005\n",
    "###########################################################################################################################################################################\n",
    "qerror_list = []\n",
    "q_win = 100000.\n",
    "\n",
    "for i in range(10):\n",
    "    # initialize random weights\n",
    "    era5_hourly_som1 = minisom.MiniSom(y,x, input_len = input_length, sigma = sigma, learning_rate=learning_rate, neighborhood_function='bubble', decay_function = asymptotic_decay)\n",
    "    era5_hourly_som1.random_weights_init(data_train)\n",
    "    # train som\n",
    "    era5_hourly_som1.train(data_train, num_iteration=100000,random_order=True, verbose=True)\n",
    "    q_error = era5_hourly_som1.quantization_error(data_train)\n",
    "    #Add the details of the SOM settings into the name of the file so that you know what the SOM is showing.\n",
    "    with open(PATH + '5by4_LR0.005_sig5_SOM_som_'+str(i)+'.p', 'wb') as outfile: #this is how you save the file, the str(i) is a unique name\n",
    "        pickle.dump(era5_hourly_som1, outfile)\n",
    "    weights = era5_hourly_som1._weights\n",
    "    qerror_list += [q_error]\n",
    "    i+=1\n",
    "    if q_error < q_win:\n",
    "        q_win = q_error\n",
    "        win_weights = era5_hourly_som1"
   ]
  }
 ],
 "metadata": {
  "kernelspec": {
   "display_name": "Python 3 (ipykernel)",
   "language": "python",
   "name": "python3"
  },
  "language_info": {
   "codemirror_mode": {
    "name": "ipython",
    "version": 3
   },
   "file_extension": ".py",
   "mimetype": "text/x-python",
   "name": "python",
   "nbconvert_exporter": "python",
   "pygments_lexer": "ipython3",
   "version": "3.8.13"
  }
 },
 "nbformat": 4,
 "nbformat_minor": 5
}
